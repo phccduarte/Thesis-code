{
 "cells": [
  {
   "cell_type": "code",
   "execution_count": null,
   "id": "e453b47f-5331-4e95-8972-c388e6762768",
   "metadata": {},
   "outputs": [],
   "source": [
    "import pandas as pd\n",
    "from collections import Counter\n",
    "import numpy as np\n",
    "import matplotlib.pyplot as plt\n",
    "from scipy.optimize import curve_fit\n",
    "import math\n",
    "from sklearn.metrics import r2_score"
   ]
  },
  {
   "cell_type": "code",
   "execution_count": 3,
   "id": "11f04fd4-495b-48ca-bb6b-4a951e8f2a82",
   "metadata": {},
   "outputs": [],
   "source": [
    "data = pd.read_csv('sim_v6_cas4.txt', sep=\" \", header=None)\n",
    "data.columns = [\"t\", \"size\"]"
   ]
  },
  {
   "cell_type": "code",
   "execution_count": 4,
   "id": "e54ba8e2-f083-4c74-b137-885bd44dbf80",
   "metadata": {},
   "outputs": [],
   "source": [
    "val = data['size'].to_numpy()\n",
    "N=len(val)\n",
    "#print(val)"
   ]
  },
  {
   "cell_type": "code",
   "execution_count": 6,
   "id": "9cd6b60d-d6e9-4b53-b923-eeae95bb5e65",
   "metadata": {
    "tags": []
   },
   "outputs": [
    {
     "name": "stdout",
     "output_type": "stream",
     "text": [
      "9976400\n"
     ]
    }
   ],
   "source": [
    "length = len(val)\n",
    "print(length)\n",
    "ind =[]\n",
    "for i in range(length-1):\n",
    "    if val[i]==val[i+1]:\n",
    "        ind.append(i+1)\n",
    "\n",
    "size_wrong = len(ind)"
   ]
  },
  {
   "cell_type": "code",
   "execution_count": 7,
   "id": "d3cd9f00-74d0-492a-9eae-0863522093a2",
   "metadata": {},
   "outputs": [],
   "source": [
    "data_clean = data.drop(ind)"
   ]
  },
  {
   "cell_type": "code",
   "execution_count": 8,
   "id": "215bb8fb-fb87-426f-91fc-28d56c26b2d4",
   "metadata": {
    "tags": []
   },
   "outputs": [],
   "source": [
    "index = data_clean.index.tolist()"
   ]
  },
  {
   "cell_type": "code",
   "execution_count": 9,
   "id": "83ea3711-69d0-404a-ad68-44969c005035",
   "metadata": {
    "tags": []
   },
   "outputs": [],
   "source": [
    "size = data_clean['size'].to_numpy()\n",
    "tot = len(size)\n",
    "cascs =[]\n",
    "ct1=0\n",
    "ct2=0\n",
    "for i in range(tot-1):\n",
    "    if size[i]>size[i+1]:\n",
    "        new_casc=[index[i-ct2], i, ct2]\n",
    "        cascs.append(new_casc)\n",
    "        #print(cascs)\n",
    "        ct1=ct1+1\n",
    "        ct2=-1\n",
    "    ct2=ct2+1"
   ]
  },
  {
   "cell_type": "code",
   "execution_count": null,
   "id": "517f027c-97ff-44e8-ba69-886eea27cc3f",
   "metadata": {},
   "outputs": [
    {
     "name": "stdout",
     "output_type": "stream",
     "text": [
      "4025\n"
     ]
    }
   ],
   "source": [
    "time = data_clean['t'].to_numpy()\n",
    "len_cascs=len(cascs)\n",
    "tim=[]\n",
    "tam=[]\n",
    "plotcasc = []\n",
    "for i in range(len_cascs-1):\n",
    "    ini=cascs[i][1]-cascs[i][2]\n",
    "    fin=cascs[i][1]\n",
    "    tim=time[ini:fin]\n",
    "    tam=size[ini:fin]\n",
    "    plotcasc = np.append(plotcasc, size[fin])\n",
    "    plt.plot(tim, tam, '.', label='data')\n",
    "\n",
    "plt.xlim([0,555])\n",
    "print(len(cascs))"
   ]
  },
  {
   "cell_type": "code",
   "execution_count": null,
   "id": "fcf5214f-4e49-484c-934c-1826518c78a8",
   "metadata": {},
   "outputs": [],
   "source": []
  }
 ],
 "metadata": {
  "kernelspec": {
   "display_name": "myenv2",
   "language": "python",
   "name": "myenv2"
  },
  "language_info": {
   "codemirror_mode": {
    "name": "ipython",
    "version": 3
   },
   "file_extension": ".py",
   "mimetype": "text/x-python",
   "name": "python",
   "nbconvert_exporter": "python",
   "pygments_lexer": "ipython3",
   "version": "3.10.12"
  }
 },
 "nbformat": 4,
 "nbformat_minor": 5
}
